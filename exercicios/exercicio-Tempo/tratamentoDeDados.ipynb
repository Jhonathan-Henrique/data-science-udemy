{
 "cells": [
  {
   "cell_type": "code",
   "execution_count": null,
   "id": "a1337229-12cf-43cc-ae48-c6576d0133a2",
   "metadata": {},
   "outputs": [],
   "source": [
    "#Meu primeiro tratamento de dados sozinho."
   ]
  },
  {
   "cell_type": "code",
   "execution_count": 139,
   "id": "38712031-723d-4fc8-8714-310959dd48ac",
   "metadata": {},
   "outputs": [],
   "source": [
    "import pandas as pd\n",
    "import seaborn as sbr\n",
    "import statistics as sts"
   ]
  },
  {
   "cell_type": "code",
   "execution_count": 141,
   "id": "2242da52-7767-4d5e-a922-42d9bbe526d8",
   "metadata": {},
   "outputs": [],
   "source": [
    "#Vou começar com análise exploratória para entender o problema mas a fundo."
   ]
  },
  {
   "cell_type": "code",
   "execution_count": 145,
   "id": "601ad287-3490-474d-938c-33f8be9d51d5",
   "metadata": {},
   "outputs": [
    {
     "data": {
      "text/html": [
       "<div>\n",
       "<style scoped>\n",
       "    .dataframe tbody tr th:only-of-type {\n",
       "        vertical-align: middle;\n",
       "    }\n",
       "\n",
       "    .dataframe tbody tr th {\n",
       "        vertical-align: top;\n",
       "    }\n",
       "\n",
       "    .dataframe thead th {\n",
       "        text-align: right;\n",
       "    }\n",
       "</style>\n",
       "<table border=\"1\" class=\"dataframe\">\n",
       "  <thead>\n",
       "    <tr style=\"text-align: right;\">\n",
       "      <th></th>\n",
       "      <th>Aparencia</th>\n",
       "      <th>Temperatura</th>\n",
       "      <th>Umidade</th>\n",
       "      <th>Vento</th>\n",
       "      <th>Jogar</th>\n",
       "    </tr>\n",
       "  </thead>\n",
       "  <tbody>\n",
       "    <tr>\n",
       "      <th>0</th>\n",
       "      <td>sol</td>\n",
       "      <td>85</td>\n",
       "      <td>85.0</td>\n",
       "      <td>FALSO</td>\n",
       "      <td>nao</td>\n",
       "    </tr>\n",
       "    <tr>\n",
       "      <th>1</th>\n",
       "      <td>sol</td>\n",
       "      <td>80</td>\n",
       "      <td>90.0</td>\n",
       "      <td>VERDADEIRO</td>\n",
       "      <td>nao</td>\n",
       "    </tr>\n",
       "    <tr>\n",
       "      <th>2</th>\n",
       "      <td>nublado</td>\n",
       "      <td>83</td>\n",
       "      <td>86.0</td>\n",
       "      <td>FALSO</td>\n",
       "      <td>sim</td>\n",
       "    </tr>\n",
       "    <tr>\n",
       "      <th>3</th>\n",
       "      <td>chuva</td>\n",
       "      <td>70</td>\n",
       "      <td>NaN</td>\n",
       "      <td>FALSO</td>\n",
       "      <td>sim</td>\n",
       "    </tr>\n",
       "    <tr>\n",
       "      <th>4</th>\n",
       "      <td>chuva</td>\n",
       "      <td>68</td>\n",
       "      <td>80.0</td>\n",
       "      <td>FALSO</td>\n",
       "      <td>sim</td>\n",
       "    </tr>\n",
       "  </tbody>\n",
       "</table>\n",
       "</div>"
      ],
      "text/plain": [
       "  Aparencia  Temperatura  Umidade       Vento Jogar\n",
       "0       sol           85     85.0       FALSO   nao\n",
       "1       sol           80     90.0  VERDADEIRO   nao\n",
       "2   nublado           83     86.0       FALSO   sim\n",
       "3     chuva           70      NaN       FALSO   sim\n",
       "4     chuva           68     80.0       FALSO   sim"
      ]
     },
     "execution_count": 145,
     "metadata": {},
     "output_type": "execute_result"
    }
   ],
   "source": [
    "#Realizando a leitura do nosso documento csv tempo.\n",
    "dataset = pd.read_csv('tempo.csv', sep=';')\n",
    "dataset.head()"
   ]
  },
  {
   "cell_type": "code",
   "execution_count": 147,
   "id": "7d0c328e-84d3-43f8-9c20-ab896a76504e",
   "metadata": {},
   "outputs": [],
   "source": [
    "#Primeira coisa que quero verificar ò tamanho dessa tabela"
   ]
  },
  {
   "cell_type": "code",
   "execution_count": 149,
   "id": "7aa0015e-d895-4c0c-927b-184aa6882de9",
   "metadata": {},
   "outputs": [
    {
     "data": {
      "text/plain": [
       "(14, 5)"
      ]
     },
     "execution_count": 149,
     "metadata": {},
     "output_type": "execute_result"
    }
   ],
   "source": [
    "dataset.shape"
   ]
  },
  {
   "cell_type": "code",
   "execution_count": 151,
   "id": "597829fe-0042-4f08-9320-a7092a385a11",
   "metadata": {},
   "outputs": [],
   "source": [
    "#Segunda coisa quero verificar a ocorrencia de cada coluna para saber se tem algo fora do padrão."
   ]
  },
  {
   "cell_type": "code",
   "execution_count": 155,
   "id": "b06e08a8-82dd-4ae7-b696-dbdfea16b3d4",
   "metadata": {},
   "outputs": [
    {
     "data": {
      "text/plain": [
       "Aparencia\n",
       "chuva      5\n",
       "menos      1\n",
       "nublado    3\n",
       "sol        5\n",
       "dtype: int64"
      ]
     },
     "execution_count": 155,
     "metadata": {},
     "output_type": "execute_result"
    }
   ],
   "source": [
    "group = dataset.groupby(['Aparencia']).size()\n",
    "group"
   ]
  },
  {
   "cell_type": "code",
   "execution_count": 157,
   "id": "679ef243-8e09-407c-aedf-59d9f7905113",
   "metadata": {},
   "outputs": [
    {
     "data": {
      "text/plain": [
       "<Axes: xlabel='Aparencia'>"
      ]
     },
     "execution_count": 157,
     "metadata": {},
     "output_type": "execute_result"
    },
    {
     "data": {
      "image/png": "[encoded data removed]",
      "text/plain": [
       "<Figure size 640x480 with 1 Axes>"
      ]
     },
     "metadata": {},
     "output_type": "display_data"
    }
   ],
   "source": [
    "#Criei um grafico, so pra treino mesmo\n",
    "group.plot.bar(color='gray')"
   ]
  },
  {
   "cell_type": "code",
   "execution_count": 159,
   "id": "7d739c23-4456-4262-ad29-26c89690c447",
   "metadata": {},
   "outputs": [],
   "source": [
    "#excluindo um dado inconsistente que nao consegue aplicar moda\n",
    "dataset = dataset[dataset['Aparencia'] != 'menos']"
   ]
  },
  {
   "cell_type": "code",
   "execution_count": 161,
   "id": "7f8e00b8-6765-4363-8bf2-f5a4e4d40cce",
   "metadata": {},
   "outputs": [
    {
     "data": {
      "text/plain": [
       "Aparencia\n",
       "chuva      5\n",
       "nublado    3\n",
       "sol        5\n",
       "dtype: int64"
      ]
     },
     "execution_count": 161,
     "metadata": {},
     "output_type": "execute_result"
    }
   ],
   "source": [
    "#verificando novamente os valores de aparencia para saber se saiu+\n",
    "group = dataset.groupby(['Aparencia']).size()\n",
    "group"
   ]
  },
  {
   "cell_type": "code",
   "execution_count": 165,
   "id": "fecf40c4-b1d4-4776-acf0-c5b0997e1812",
   "metadata": {},
   "outputs": [
    {
     "data": {
      "text/plain": [
       "Temperatura\n",
       "65      1\n",
       "68      1\n",
       "69      1\n",
       "70      1\n",
       "71      1\n",
       "72      1\n",
       "75      2\n",
       "80      1\n",
       "81      1\n",
       "83      1\n",
       "85      1\n",
       "1220    1\n",
       "dtype: int64"
      ]
     },
     "execution_count": 165,
     "metadata": {},
     "output_type": "execute_result"
    }
   ],
   "source": [
    "#Verificando coluna Temperatura\n",
    "group = dataset.groupby(['Temperatura']).size()\n",
    "group"
   ]
  },
  {
   "cell_type": "code",
   "execution_count": 167,
   "id": "980d5359-6e40-4794-9be4-a70124121da9",
   "metadata": {},
   "outputs": [
    {
     "data": {
      "text/plain": [
       "75"
      ]
     },
     "execution_count": 167,
     "metadata": {},
     "output_type": "execute_result"
    }
   ],
   "source": [
    "#Modificando valor errado com mediana\n",
    "mediana = sts.median(dataset['Temperatura'])\n",
    "mediana"
   ]
  },
  {
   "cell_type": "code",
   "execution_count": 169,
   "id": "748bfc5c-bdfe-4f34-a3a0-171970eb8be6",
   "metadata": {},
   "outputs": [],
   "source": [
    "#substituir valor errado pela mediana:\n",
    "dataset.loc[(dataset['Temperatura'] < -130) | (dataset['Temperatura'] > 130) , 'Temperatura'] = mediana"
   ]
  },
  {
   "cell_type": "code",
   "execution_count": 171,
   "id": "243d4049-6d91-4a91-8c40-fa35595f62f9",
   "metadata": {},
   "outputs": [
    {
     "data": {
      "text/plain": [
       "Temperatura\n",
       "65    1\n",
       "68    1\n",
       "69    1\n",
       "70    1\n",
       "71    1\n",
       "72    1\n",
       "75    3\n",
       "80    1\n",
       "81    1\n",
       "83    1\n",
       "85    1\n",
       "dtype: int64"
      ]
     },
     "execution_count": 171,
     "metadata": {},
     "output_type": "execute_result"
    }
   ],
   "source": [
    "#atribuo novamente a variavel grou ja que vai receber um novo valor da mediana no valor que estava incorreto\n",
    "group = dataset.groupby(['Temperatura']).size()\n",
    "group"
   ]
  },
  {
   "cell_type": "code",
   "execution_count": 173,
   "id": "b5cb0018-b937-4bb9-ad78-d16aedae4272",
   "metadata": {},
   "outputs": [],
   "source": [
    "#Verificando a coluna umidade"
   ]
  },
  {
   "cell_type": "code",
   "execution_count": 177,
   "id": "0842d1c5-6a3e-4569-825b-fb6e847e3249",
   "metadata": {},
   "outputs": [
    {
     "data": {
      "text/plain": [
       "Umidade\n",
       "70.0     3\n",
       "75.0     1\n",
       "80.0     1\n",
       "85.0     1\n",
       "86.0     1\n",
       "90.0     2\n",
       "91.0     1\n",
       "95.0     1\n",
       "200.0    1\n",
       "dtype: int64"
      ]
     },
     "execution_count": 177,
     "metadata": {},
     "output_type": "execute_result"
    }
   ],
   "source": [
    "group = dataset.groupby(['Umidade']).size()\n",
    "group"
   ]
  },
  {
   "cell_type": "code",
   "execution_count": 179,
   "id": "24f608dc-74d2-4f7b-b849-9f89ba25c790",
   "metadata": {},
   "outputs": [
    {
     "data": {
      "text/plain": [
       "86.0"
      ]
     },
     "execution_count": 179,
     "metadata": {},
     "output_type": "execute_result"
    }
   ],
   "source": [
    "mediana = sts.median(dataset['Umidade'])\n",
    "mediana"
   ]
  },
  {
   "cell_type": "code",
   "execution_count": 181,
   "id": "67f3853a-9d2c-4b9c-9d84-70cfe522796c",
   "metadata": {},
   "outputs": [],
   "source": [
    "#Resolvendo NAs\n",
    "#dataset['Umidade'].fillna(mediana, inplace=True)\n",
    "dataset.fillna({'Umidade': mediana}, inplace=True)"
   ]
  },
  {
   "cell_type": "code",
   "execution_count": 183,
   "id": "32283cea-a6b1-4b94-a002-ac7ae257d594",
   "metadata": {},
   "outputs": [],
   "source": [
    "#Substituindo valores errados pela mediana\n",
    "dataset.loc[(dataset['Umidade'] < 0) | (dataset['Umidade'] > 100), 'Umidade'] = mediana"
   ]
  },
  {
   "cell_type": "code",
   "execution_count": 185,
   "id": "889d8fb9-433d-46a4-b336-c97bcbc1cf68",
   "metadata": {},
   "outputs": [
    {
     "data": {
      "text/plain": [
       "Umidade\n",
       "70.0    3\n",
       "75.0    1\n",
       "80.0    1\n",
       "85.0    1\n",
       "86.0    3\n",
       "90.0    2\n",
       "91.0    1\n",
       "95.0    1\n",
       "dtype: int64"
      ]
     },
     "execution_count": 185,
     "metadata": {},
     "output_type": "execute_result"
    }
   ],
   "source": [
    "group = dataset.groupby(['Umidade']).size()\n",
    "group"
   ]
  },
  {
   "cell_type": "code",
   "execution_count": 187,
   "id": "4b535d26-b10f-4c67-a7bb-3137ca4d3145",
   "metadata": {},
   "outputs": [
    {
     "data": {
      "text/plain": [
       "Aparencia      0\n",
       "Temperatura    0\n",
       "Umidade        0\n",
       "Vento          1\n",
       "Jogar          0\n",
       "dtype: int64"
      ]
     },
     "execution_count": 187,
     "metadata": {},
     "output_type": "execute_result"
    }
   ],
   "source": [
    "#Verificando se tem NAs\n",
    "dataset.isnull().sum()"
   ]
  },
  {
   "cell_type": "code",
   "execution_count": 189,
   "id": "29137ef7-27ba-4c4d-9d67-1c654b64024f",
   "metadata": {},
   "outputs": [
    {
     "data": {
      "text/plain": [
       "<bound method NDFrame.head of 0          FALSO\n",
       "1     VERDADEIRO\n",
       "2          FALSO\n",
       "3          FALSO\n",
       "4          FALSO\n",
       "5     VERDADEIRO\n",
       "7          FALSO\n",
       "8          FALSO\n",
       "9            NaN\n",
       "10    VERDADEIRO\n",
       "11    VERDADEIRO\n",
       "12         FALSO\n",
       "13    VERDADEIRO\n",
       "Name: Vento, dtype: object>"
      ]
     },
     "execution_count": 189,
     "metadata": {},
     "output_type": "execute_result"
    }
   ],
   "source": [
    "dataset['Vento'].head"
   ]
  },
  {
   "cell_type": "code",
   "execution_count": 191,
   "id": "1a7d3da9-4978-4f27-a847-357d175390cb",
   "metadata": {},
   "outputs": [
    {
     "data": {
      "text/plain": [
       "Vento\n",
       "FALSO         7\n",
       "VERDADEIRO    5\n",
       "dtype: int64"
      ]
     },
     "execution_count": 191,
     "metadata": {},
     "output_type": "execute_result"
    }
   ],
   "source": [
    "group = dataset.groupby(['Vento']).size()\n",
    "group"
   ]
  },
  {
   "cell_type": "code",
   "execution_count": 193,
   "id": "d28edb01-0e51-4cbc-bd7f-b1bbb714b477",
   "metadata": {},
   "outputs": [
    {
     "data": {
      "text/plain": [
       "1"
      ]
     },
     "execution_count": 193,
     "metadata": {},
     "output_type": "execute_result"
    }
   ],
   "source": [
    "dataset['Vento'].isnull().sum()"
   ]
  },
  {
   "cell_type": "code",
   "execution_count": 195,
   "id": "c466f2a1-97ff-4bb7-9364-27db58139564",
   "metadata": {},
   "outputs": [],
   "source": [
    "dataset['Vento'].fillna('Falso', inplace=True)"
   ]
  },
  {
   "cell_type": "code",
   "execution_count": 197,
   "id": "2f5781b9-1c2e-4d98-a02c-9e67fd489ebe",
   "metadata": {},
   "outputs": [
    {
     "data": {
      "text/plain": [
       "0"
      ]
     },
     "execution_count": 197,
     "metadata": {},
     "output_type": "execute_result"
    }
   ],
   "source": [
    "dataset['Vento'].isnull().sum()"
   ]
  },
  {
   "cell_type": "code",
   "execution_count": 199,
   "id": "a97f2eab-ce8d-4dce-82e2-e6fac218bec5",
   "metadata": {},
   "outputs": [
    {
     "data": {
      "text/plain": [
       "Aparencia      0\n",
       "Temperatura    0\n",
       "Umidade        0\n",
       "Vento          0\n",
       "Jogar          0\n",
       "dtype: int64"
      ]
     },
     "execution_count": 199,
     "metadata": {},
     "output_type": "execute_result"
    }
   ],
   "source": [
    "dataset.isnull().sum()"
   ]
  },
  {
   "cell_type": "code",
   "execution_count": 201,
   "id": "d64e2a7f-c312-42b1-920b-58aa513f7a56",
   "metadata": {},
   "outputs": [
    {
     "data": {
      "text/plain": [
       "<bound method NDFrame.head of    Aparencia  Temperatura  Umidade       Vento Jogar\n",
       "0        sol           85     85.0       FALSO   nao\n",
       "1        sol           80     90.0  VERDADEIRO   nao\n",
       "2    nublado           83     86.0       FALSO   sim\n",
       "3      chuva           70     86.0       FALSO   sim\n",
       "4      chuva           68     80.0       FALSO   sim\n",
       "5      chuva           65     70.0  VERDADEIRO   nao\n",
       "7        sol           75     95.0       FALSO   nao\n",
       "8        sol           69     70.0       FALSO   sim\n",
       "9      chuva           75     86.0       Falso   sim\n",
       "10       sol           75     70.0  VERDADEIRO   sim\n",
       "11   nublado           72     90.0  VERDADEIRO   sim\n",
       "12   nublado           81     75.0       FALSO   sim\n",
       "13     chuva           71     91.0  VERDADEIRO   nao>"
      ]
     },
     "execution_count": 201,
     "metadata": {},
     "output_type": "execute_result"
    }
   ],
   "source": [
    "dataset.head"
   ]
  },
  {
   "cell_type": "code",
   "execution_count": 203,
   "id": "ee6936cf-2095-4e46-8551-19de9d2154f3",
   "metadata": {},
   "outputs": [
    {
     "data": {
      "text/plain": [
       "count      13\n",
       "unique      2\n",
       "top       sim\n",
       "freq        8\n",
       "Name: Jogar, dtype: object"
      ]
     },
     "execution_count": 203,
     "metadata": {},
     "output_type": "execute_result"
    }
   ],
   "source": [
    "dataset['Jogar'].describe()"
   ]
  },
  {
   "cell_type": "code",
   "execution_count": 205,
   "id": "98822596-852a-4fe5-a7d4-50de2221075d",
   "metadata": {},
   "outputs": [
    {
     "data": {
      "text/plain": [
       "<bound method NDFrame.head of 0     nao\n",
       "1     nao\n",
       "2     sim\n",
       "3     sim\n",
       "4     sim\n",
       "5     nao\n",
       "7     nao\n",
       "8     sim\n",
       "9     sim\n",
       "10    sim\n",
       "11    sim\n",
       "12    sim\n",
       "13    nao\n",
       "Name: Jogar, dtype: object>"
      ]
     },
     "execution_count": 205,
     "metadata": {},
     "output_type": "execute_result"
    }
   ],
   "source": [
    "dataset['Jogar'].head"
   ]
  },
  {
   "cell_type": "code",
   "execution_count": 207,
   "id": "bc20ff1c-f8a4-4370-b222-dd295587caac",
   "metadata": {},
   "outputs": [
    {
     "data": {
      "text/plain": [
       "(13, 5)"
      ]
     },
     "execution_count": 207,
     "metadata": {},
     "output_type": "execute_result"
    }
   ],
   "source": [
    "dataset.shape"
   ]
  }
 ],
 "metadata": {
  "kernelspec": {
   "display_name": "Python [conda env:base] *",
   "language": "python",
   "name": "conda-base-py"
  },
  "language_info": {
   "codemirror_mode": {
    "name": "ipython",
    "version": 3
   },
   "file_extension": ".py",
   "mimetype": "text/x-python",
   "name": "python",
   "nbconvert_exporter": "python",
   "pygments_lexer": "ipython3",
   "version": "3.12.7"
  }
 },
 "nbformat": 4,
 "nbformat_minor": 5
}
